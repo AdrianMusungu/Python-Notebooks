{
 "cells": [
  {
   "cell_type": "code",
   "execution_count": 1,
   "metadata": {},
   "outputs": [],
   "source": [
    "import numpy as np"
   ]
  },
  {
   "cell_type": "code",
   "execution_count": 2,
   "metadata": {},
   "outputs": [
    {
     "name": "stdout",
     "output_type": "stream",
     "text": [
      "[0 1 2 3 4 5 6 7 8 9]\n"
     ]
    }
   ],
   "source": [
    "#creating an array of range 10\n",
    "a = np.arange(10)\n",
    "print (a)"
   ]
  },
  {
   "cell_type": "code",
   "execution_count": 3,
   "metadata": {
    "scrolled": true
   },
   "outputs": [
    {
     "name": "stdout",
     "output_type": "stream",
     "text": [
      "[[0 1]\n",
      " [2 3]\n",
      " [4 5]\n",
      " [6 7]\n",
      " [8 9]]\n"
     ]
    }
   ],
   "source": [
    "#1.Reshape: Gives a new shape to an array,without changing data\n",
    "\n",
    "#reshaping the array to be 2D in nature\n",
    "b = a.reshape(5,2)\n",
    "print (b)\n"
   ]
  },
  {
   "cell_type": "code",
   "execution_count": 4,
   "metadata": {},
   "outputs": [
    {
     "name": "stdout",
     "output_type": "stream",
     "text": [
      "[[0 3]\n",
      " [6 9]]\n",
      "The flat function:\n",
      "9\n"
     ]
    }
   ],
   "source": [
    "#2.\tFlat, flatten: Returns a copy of the array collapsed into one dimension\n",
    "\n",
    "#the flat function: behaves similar to Python's iterator\n",
    "f = np.arange(0,10,3).reshape(2,2)\n",
    "print (f)\n",
    "print('The flat function:')\n",
    "print (f.flat[3])"
   ]
  },
  {
   "cell_type": "code",
   "execution_count": 5,
   "metadata": {},
   "outputs": [
    {
     "name": "stdout",
     "output_type": "stream",
     "text": [
      "[0 3 6 9]\n"
     ]
    }
   ],
   "source": [
    "#Flattening an array\n",
    "f1 = f.flatten()\n",
    "print(f1)"
   ]
  },
  {
   "cell_type": "code",
   "execution_count": 9,
   "metadata": {},
   "outputs": [
    {
     "name": "stdout",
     "output_type": "stream",
     "text": [
      "[0 6 3 9]\n",
      "[[0 3]\n",
      " [6 9]]\n"
     ]
    }
   ],
   "source": [
    "#Flattening an array with a custom ordering\n",
    "f2 = f.flatten(order = 'F')\n",
    "print(f2)\n"
   ]
  },
  {
   "cell_type": "code",
   "execution_count": 10,
   "metadata": {},
   "outputs": [
    {
     "name": "stdout",
     "output_type": "stream",
     "text": [
      "[0 3 6 9]\n"
     ]
    }
   ],
   "source": [
    "#flatten returns a copy whereas ravel returns a view of the original\n",
    "#if you modify a ravel(), it may change the elements of the original array\n",
    "#this doesnt happen with flatten()\n",
    "f3 = f.ravel()\n",
    "print(f3)\n",
    "\n",
    "\n"
   ]
  },
  {
   "cell_type": "code",
   "execution_count": 11,
   "metadata": {},
   "outputs": [
    {
     "name": "stdout",
     "output_type": "stream",
     "text": [
      "[[0 1 2]\n",
      " [3 4 5]\n",
      " [6 7 8]]\n",
      "\n",
      " The transpose is:\n",
      "[[0 3 6]\n",
      " [1 4 7]\n",
      " [2 5 8]]\n"
     ]
    }
   ],
   "source": [
    "#3.\tTranspose: Permutes the dimensions of an array\n",
    "\n",
    "t = np.arange(9).reshape(3,3)\n",
    "print (t)\n",
    "print ('\\n The transpose is:')\n",
    "print (np.transpose(t))"
   ]
  },
  {
   "cell_type": "code",
   "execution_count": 18,
   "metadata": {},
   "outputs": [
    {
     "name": "stdout",
     "output_type": "stream",
     "text": [
      "original:\n",
      "[0 1 2 3 4]\n",
      "\n",
      " broadcast:\n",
      "[[0 1 2 3 4]\n",
      " [0 1 2 3 4]\n",
      " [0 1 2 3 4]\n",
      " [0 1 2 3 4]\n",
      " [0 1 2 3 4]]\n"
     ]
    }
   ],
   "source": [
    "#4.\tBroadcast_to: Broadcasts an array to a new shape\n",
    "\n",
    "arr = np.arange(5)\n",
    "print('original:')\n",
    "print (arr)\n",
    "br = np.broadcast_to(arr, (5,5))\n",
    "print('\\n broadcast:')\n",
    "print(br)"
   ]
  },
  {
   "cell_type": "code",
   "execution_count": 23,
   "metadata": {},
   "outputs": [
    {
     "name": "stdout",
     "output_type": "stream",
     "text": [
      "Array 1 : \n",
      " [['a' 'b']\n",
      " ['c' 'd']]\n",
      "Array 2 : \n",
      " [['e' 'f']\n",
      " ['g' 'h']]\n",
      "\n",
      "\n",
      "joining along axis 0 : \n",
      "\n",
      "[['a' 'b']\n",
      " ['c' 'd']\n",
      " ['e' 'f']\n",
      " ['g' 'h']] \n",
      "\n",
      "joining along axis 1 : \n",
      "\n",
      "[['a' 'b' 'e' 'f']\n",
      " ['c' 'd' 'g' 'h']]\n"
     ]
    }
   ],
   "source": [
    "#5.\tConcatenate: Joins a sequence of arrays along an existing axis\n",
    "\n",
    "a1 = np.array([['a','b'],['c','d']])\n",
    "a2 = np.array([['e','f'],['g','h']])\n",
    "\n",
    "print ('Array 1 : \\n', a1)\n",
    "print ('Array 2 : \\n', a2)\n",
    "print ('\\n')\n",
    "print('joining along axis 0 : \\n')\n",
    "print(np.concatenate((a1,a2)), '\\n')\n",
    "print('joining along axis 1 : \\n')\n",
    "print(np.concatenate((a1,a2), axis = 1))"
   ]
  },
  {
   "cell_type": "code",
   "execution_count": 48,
   "metadata": {},
   "outputs": [
    {
     "name": "stdout",
     "output_type": "stream",
     "text": [
      "stacking along axis 0 : \n",
      "\n",
      "[[['a' 'b']\n",
      "  ['c' 'd']]\n",
      "\n",
      " [['e' 'f']\n",
      "  ['g' 'h']]] \n",
      "\n",
      "stacking along axis 1 : \n",
      "\n",
      "[[['a' 'b']\n",
      "  ['e' 'f']]\n",
      "\n",
      " [['c' 'd']\n",
      "  ['g' 'h']]]\n"
     ]
    }
   ],
   "source": [
    "#6.\tStacking: Joins a sequence of arrays along a new axis\n",
    "\n",
    "print('stacking along axis 0 : \\n')\n",
    "print(np.stack((a1,a2)), '\\n')\n",
    "print('stacking along axis 1 : \\n')\n",
    "print(np.stack((a1,a2), axis = 1))"
   ]
  },
  {
   "cell_type": "code",
   "execution_count": 25,
   "metadata": {},
   "outputs": [
    {
     "name": "stdout",
     "output_type": "stream",
     "text": [
      "vertical stacking: \n",
      "\n",
      "[['a' 'b']\n",
      " ['c' 'd']\n",
      " ['e' 'f']\n",
      " ['g' 'h']] \n",
      "\n",
      "horizontal stacking: \n",
      "\n",
      "[['a' 'b' 'e' 'f']\n",
      " ['c' 'd' 'g' 'h']]\n"
     ]
    }
   ],
   "source": [
    "#horizontal stacking vs vertical stacking: replicates concatenating\n",
    "print('vertical stacking: \\n')\n",
    "print(np.vstack((a1,a2)), '\\n')\n",
    "print('horizontal stacking: \\n')\n",
    "print(np.hstack((a1,a2)))\n"
   ]
  },
  {
   "cell_type": "code",
   "execution_count": 41,
   "metadata": {},
   "outputs": [
    {
     "name": "stdout",
     "output_type": "stream",
     "text": [
      "\n",
      " original: [0 1 2 3 4 5 6 7 8 9]\n",
      "\n",
      " split in 2 equal parts: \n",
      " [array([0, 1, 2, 3, 4]), array([5, 6, 7, 8, 9])]\n"
     ]
    }
   ],
   "source": [
    "#7.\tSplitting: Splits an array into multiple sub-arrays\n",
    "\n",
    "arr2 = np.arange(10)\n",
    "s = np.split(arr2, 2)\n",
    "print('\\n original:', arr2)\n",
    "print('\\n split in 2 equal parts: \\n', s)"
   ]
  },
  {
   "cell_type": "code",
   "execution_count": 42,
   "metadata": {},
   "outputs": [
    {
     "name": "stdout",
     "output_type": "stream",
     "text": [
      "original: \n",
      " [[ 0  1  2  3]\n",
      " [ 4  5  6  7]\n",
      " [ 8  9 10 11]\n",
      " [12 13 14 15]] \n",
      "\n",
      "vertical splitting: \n",
      " [array([[0, 1, 2, 3],\n",
      "       [4, 5, 6, 7]]), array([[ 8,  9, 10, 11],\n",
      "       [12, 13, 14, 15]])] \n",
      "\n",
      "horizontal splitting: \n",
      " [array([[ 0,  1],\n",
      "       [ 4,  5],\n",
      "       [ 8,  9],\n",
      "       [12, 13]]), array([[ 2,  3],\n",
      "       [ 6,  7],\n",
      "       [10, 11],\n",
      "       [14, 15]])]\n"
     ]
    }
   ],
   "source": [
    "#horizontal vs vertical array splitting\n",
    "\n",
    "arr3 = np.arange(16).reshape(4,4)\n",
    "vs = np.vsplit(arr3,2)\n",
    "hs = np.hsplit(arr3,2)\n",
    "print('original: \\n', arr3, '\\n')\n",
    "print('vertical splitting: \\n',vs, '\\n')\n",
    "print('horizontal splitting: \\n',hs)"
   ]
  },
  {
   "cell_type": "code",
   "execution_count": 43,
   "metadata": {},
   "outputs": [
    {
     "name": "stdout",
     "output_type": "stream",
     "text": [
      "original: \n",
      " [[1 2]\n",
      " [3 4]\n",
      " [5 6]] \n",
      "\n",
      "resized to shape(2,3): \n",
      " [[1 2 3]\n",
      " [4 5 6]] \n",
      "\n",
      "resized to shape(3,3): \n",
      " [[1 2 3]\n",
      " [4 5 6]\n",
      " [1 2 3]]\n"
     ]
    }
   ],
   "source": [
    "#8.\tResizing: Returns a new array with the specified shape\n",
    "\n",
    "x = np.array([[1,2],[3,4],[5,6]])\n",
    "rs1 = np.resize(x,(2,3))\n",
    "rs2 = np.resize(x, (3,3))\n",
    "#take note of what happens to rs2\n",
    "print('original: \\n', x, '\\n')\n",
    "print('resized to shape(2,3): \\n', rs1, '\\n')\n",
    "print('resized to shape(3,3): \\n', rs2)"
   ]
  },
  {
   "cell_type": "code",
   "execution_count": 44,
   "metadata": {
    "scrolled": true
   },
   "outputs": [
    {
     "name": "stdout",
     "output_type": "stream",
     "text": [
      "original: \n",
      " [[1 2]\n",
      " [3 4]\n",
      " [5 6]] \n",
      "\n",
      "simple append: \n",
      " [1 2 3 4 5 6 7 8] \n",
      "\n",
      "append along axis 0: \n",
      " [[1 2]\n",
      " [3 4]\n",
      " [5 6]\n",
      " [7 8]] \n",
      "\n",
      "append along axis 1: \n",
      " [[1 2 1 1]\n",
      " [3 4 2 2]\n",
      " [5 6 3 3]] \n",
      "\n"
     ]
    }
   ],
   "source": [
    "#9.\tAppending: Appends the values to the end of an array\n",
    "\n",
    "ap0 = np.append(x,[7,8])\n",
    "ap1 = np.append(x,[[7,8]], axis=0)\n",
    "ap2 = np.append(x,[[1,1],[2,2],[3,3]], axis =1)\n",
    "print('original: \\n', x, '\\n')\n",
    "print('simple append: \\n', ap0, '\\n')\n",
    "print('append along axis 0: \\n', ap1, '\\n')\n",
    "print('append along axis 1: \\n', ap2, '\\n')\n"
   ]
  },
  {
   "cell_type": "code",
   "execution_count": 45,
   "metadata": {},
   "outputs": [
    {
     "name": "stdout",
     "output_type": "stream",
     "text": [
      "First array:\n",
      "[[1 2]\n",
      " [3 4]\n",
      " [5 6]]\n",
      "\n",
      "\n",
      "Axis parameter not passed. The input array is flattened before insertion.\n",
      "[ 1  2  3 11 12  4  5  6]\n",
      "\n",
      "\n",
      "Axis parameter passed. The values array is broadcast to match input array.\n",
      "\n",
      "\n",
      "Insertion along axis 0:\n",
      "[[ 1  2]\n",
      " [11 11]\n",
      " [ 3  4]\n",
      " [ 5  6]]\n",
      "\n",
      "\n",
      "Insertion along axis 1:\n",
      "[[ 1 11  2]\n",
      " [ 3 11  4]\n",
      " [ 5 11  6]]\n"
     ]
    }
   ],
   "source": [
    "#10.\tInserting: Inserts the values along the given axis before the given indices \n",
    "\n",
    "z = np.array([[1,2],[3,4],[5,6]]) \n",
    "#note what happens if you dont pass a parameter\n",
    "ins = np.insert(z,3,[11,12])\n",
    "#insertion along axis 0\n",
    "ins2 = np.insert(z,1,[11],axis = 0)\n",
    "#insertion along axis 1\n",
    "ins3 = np.insert(z,1,11,axis = 1)\n",
    "print ('First array:' )\n",
    "print (z) \n",
    "print ('\\n')  \n",
    "\n",
    "print ('Axis parameter not passed. The input array is flattened before insertion.')\n",
    "print (ins) \n",
    "print ('\\n')  \n",
    "print ('Axis parameter passed. The values array is broadcast to match input array.')\n",
    "print ('\\n') \n",
    "print ('Insertion along axis 0:') \n",
    "print (ins2 )\n",
    "print ('\\n')  \n",
    "\n",
    "print ('Insertion along axis 1:') \n",
    "print (ins3)"
   ]
  },
  {
   "cell_type": "code",
   "execution_count": 48,
   "metadata": {},
   "outputs": [
    {
     "name": "stdout",
     "output_type": "stream",
     "text": [
      "First array:\n",
      "[[1 2]\n",
      " [3 4]\n",
      " [5 6]]\n",
      "\n",
      "\n",
      "Axis parameter not passed. Array is flattened before deletion.\n",
      "[1 3 4 5 6]\n",
      "\n",
      "\n",
      "Axis parameter passed.\n",
      "Deletion along axis 0: Row 2 deleted\n",
      "[[1 2]\n",
      " [5 6]]\n",
      "\n",
      "\n",
      "Axis parameter passed. \n",
      "Deletion along axis 1: Column 2 deleted\n",
      "[[1]\n",
      " [3]\n",
      " [5]]\n"
     ]
    }
   ],
   "source": [
    "#11.\tDeleting:\n",
    "\n",
    "print ('First array:' )\n",
    "print (z) \n",
    "print ('\\n') \n",
    "\n",
    "del1 = np.delete(z,1)\n",
    "del2 = np.delete(z,1, axis=0)\n",
    "del3 = np.delete(z,1, axis=1)\n",
    "print ('Axis parameter not passed. Array is flattened before deletion.')\n",
    "print (del1) \n",
    "print ('\\n')  \n",
    "print ('Axis parameter passed.')\n",
    "print ('Deletion along axis 0: Row 2 deleted') \n",
    "print (del2 )\n",
    "print ('\\n')\n",
    "print ('Axis parameter passed. ')\n",
    "print ('Deletion along axis 1: Column 2 deleted') \n",
    "print (del3)\n",
    "\n"
   ]
  },
  {
   "cell_type": "code",
   "execution_count": null,
   "metadata": {},
   "outputs": [],
   "source": []
  }
 ],
 "metadata": {
  "kernelspec": {
   "display_name": "Python 3",
   "language": "python",
   "name": "python3"
  },
  "language_info": {
   "codemirror_mode": {
    "name": "ipython",
    "version": 3
   },
   "file_extension": ".py",
   "mimetype": "text/x-python",
   "name": "python",
   "nbconvert_exporter": "python",
   "pygments_lexer": "ipython3",
   "version": "3.7.1"
  }
 },
 "nbformat": 4,
 "nbformat_minor": 2
}

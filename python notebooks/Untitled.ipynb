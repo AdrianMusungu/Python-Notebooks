{
 "cells": [
  {
   "cell_type": "code",
   "execution_count": 1,
   "metadata": {},
   "outputs": [],
   "source": [
    "import numpy as np"
   ]
  },
  {
   "cell_type": "code",
   "execution_count": 4,
   "metadata": {},
   "outputs": [
    {
     "name": "stdout",
     "output_type": "stream",
     "text": [
      "[0 1 2 3 4 5 6 7 8 9]\n"
     ]
    }
   ],
   "source": [
    "#creating an array of range 10\n",
    "a = np.arange(10)\n",
    "print (a)"
   ]
  },
  {
   "cell_type": "code",
   "execution_count": 6,
   "metadata": {},
   "outputs": [
    {
     "name": "stdout",
     "output_type": "stream",
     "text": [
      "[[0 1]\n",
      " [2 3]\n",
      " [4 5]\n",
      " [6 7]\n",
      " [8 9]]\n"
     ]
    }
   ],
   "source": [
    "#reshaping the array to be 2D in nature\n",
    "b = a.reshape(5,2)\n",
    "print (b)\n"
   ]
  },
  {
   "cell_type": "code",
   "execution_count": 23,
   "metadata": {},
   "outputs": [
    {
     "name": "stdout",
     "output_type": "stream",
     "text": [
      "[[0 3]\n",
      " [6 9]]\n",
      "The flat function:\n",
      "9\n"
     ]
    }
   ],
   "source": [
    "#the flat function: behaves similar to Python's iterator\n",
    "f = np.arange(0,10,3).reshape(2,2)\n",
    "print (f)\n",
    "print('The flat function:')\n",
    "print (f.flat[3])"
   ]
  },
  {
   "cell_type": "code",
   "execution_count": 20,
   "metadata": {},
   "outputs": [
    {
     "name": "stdout",
     "output_type": "stream",
     "text": [
      "[0 1 2 3 4 5 6 7 8 9]\n"
     ]
    }
   ],
   "source": [
    "#Flattening an array\n",
    "f1 = f.flatten()\n",
    "print(f1)"
   ]
  },
  {
   "cell_type": "code",
   "execution_count": 26,
   "metadata": {},
   "outputs": [
    {
     "name": "stdout",
     "output_type": "stream",
     "text": [
      "[0 6 3 9]\n"
     ]
    }
   ],
   "source": [
    "#Flattening an array with a custom ordering\n",
    "f2 = f.flatten(order = 'F')\n",
    "print(f2)"
   ]
  },
  {
   "cell_type": "code",
   "execution_count": 28,
   "metadata": {},
   "outputs": [
    {
     "name": "stdout",
     "output_type": "stream",
     "text": [
      "[0 3 6 9]\n"
     ]
    }
   ],
   "source": [
    "#flatten returns a copy whereas ravel returns a view of the original\n",
    "#if you modify a ravel(), it may change the elements of the original array\n",
    "#this doesnt happen with flatten()\n",
    "f3 = f.ravel()\n",
    "print(f3)\n",
    "\n"
   ]
  },
  {
   "cell_type": "code",
   "execution_count": 33,
   "metadata": {},
   "outputs": [
    {
     "name": "stdout",
     "output_type": "stream",
     "text": [
      "[[0 1 2]\n",
      " [3 4 5]\n",
      " [6 7 8]]\n",
      "\n",
      " The transpose is:\n",
      "[[0 3 6]\n",
      " [1 4 7]\n",
      " [2 5 8]]\n"
     ]
    }
   ],
   "source": [
    "#transpose an array\n",
    "t = np.arange(9).reshape(3,3)\n",
    "print (t)\n",
    "print ('\\n The transpose is:')\n",
    "print (np.transpose(t))"
   ]
  },
  {
   "cell_type": "code",
   "execution_count": 41,
   "metadata": {},
   "outputs": [
    {
     "name": "stdout",
     "output_type": "stream",
     "text": [
      "original:\n",
      "[0 1 2 3 4]\n",
      "\n",
      " broadcast:\n",
      "[[0 1 2 3 4]\n",
      " [0 1 2 3 4]\n",
      " [0 1 2 3 4]\n",
      " [0 1 2 3 4]\n",
      " [0 1 2 3 4]]\n"
     ]
    }
   ],
   "source": [
    "#broadcasting\n",
    "arr = np.arange(5)\n",
    "print('original:')\n",
    "print (arr)\n",
    "br = np.broadcast_to(arr, (5,5))\n",
    "print('\\n broadcast:')\n",
    "print(br)"
   ]
  },
  {
   "cell_type": "code",
   "execution_count": 47,
   "metadata": {},
   "outputs": [
    {
     "name": "stdout",
     "output_type": "stream",
     "text": [
      "Array 1 : \n",
      " [['a' 'b']\n",
      " ['c' 'd']]\n",
      "Array 2 : \n",
      " [['e' 'f']\n",
      " ['g' 'h']]\n",
      "\n",
      "\n",
      "joining along axis 0 : \n",
      "\n",
      "[['a' 'b']\n",
      " ['c' 'd']\n",
      " ['e' 'f']\n",
      " ['g' 'h']] \n",
      "\n",
      "joining along axis 1 : \n",
      "\n",
      "[['a' 'b' 'e' 'f']\n",
      " ['c' 'd' 'g' 'h']]\n"
     ]
    }
   ],
   "source": [
    "#concatenating arrays\n",
    "a1 = np.array([['a','b'],['c','d']])\n",
    "a2 = np.array([['e','f'],['g','h']])\n",
    "\n",
    "print ('Array 1 : \\n', a1)\n",
    "print ('Array 2 : \\n', a2)\n",
    "print ('\\n')\n",
    "print('joining along axis 0 : \\n')\n",
    "print(np.concatenate((a1,a2)), '\\n')\n",
    "print('joining along axis 1 : \\n')\n",
    "print(np.concatenate((a1,a2), axis = 1))"
   ]
  },
  {
   "cell_type": "code",
   "execution_count": 48,
   "metadata": {},
   "outputs": [
    {
     "name": "stdout",
     "output_type": "stream",
     "text": [
      "stacking along axis 0 : \n",
      "\n",
      "[[['a' 'b']\n",
      "  ['c' 'd']]\n",
      "\n",
      " [['e' 'f']\n",
      "  ['g' 'h']]] \n",
      "\n",
      "stacking along axis 1 : \n",
      "\n",
      "[[['a' 'b']\n",
      "  ['e' 'f']]\n",
      "\n",
      " [['c' 'd']\n",
      "  ['g' 'h']]]\n"
     ]
    }
   ],
   "source": [
    "#stacking arrays\n",
    "print('stacking along axis 0 : \\n')\n",
    "print(np.stack((a1,a2)), '\\n')\n",
    "print('stacking along axis 1 : \\n')\n",
    "print(np.stack((a1,a2), axis = 1))"
   ]
  },
  {
   "cell_type": "code",
   "execution_count": 51,
   "metadata": {},
   "outputs": [
    {
     "name": "stdout",
     "output_type": "stream",
     "text": [
      "vertical stacking: \n",
      "\n",
      "[['a' 'b']\n",
      " ['c' 'd']\n",
      " ['e' 'f']\n",
      " ['g' 'h']] \n",
      "\n",
      "horizontal stacking: \n",
      "\n",
      "[['a' 'b' 'e' 'f']\n",
      " ['c' 'd' 'g' 'h']]\n"
     ]
    }
   ],
   "source": [
    "#horizontal stacking vs vertical stacking: replicates concatenating\n",
    "print('vertical stacking: \\n')\n",
    "print(np.vstack((a1,a2)), '\\n')\n",
    "print('horizontal stacking: \\n')\n",
    "print(np.hstack((a1,a2)))\n"
   ]
  },
  {
   "cell_type": "code",
   "execution_count": 54,
   "metadata": {},
   "outputs": [
    {
     "name": "stdout",
     "output_type": "stream",
     "text": [
      "\n",
      " original: [0 1 2 3 4 5 6 7 8 9]\n",
      "\n",
      " split in 2 equal parts: \n",
      " [array([0, 1, 2, 3, 4]), array([5, 6, 7, 8, 9])]\n"
     ]
    }
   ],
   "source": [
    "#splitting arrays\n",
    "arr2 = np.arange(10)\n",
    "s = np.split(arr2, 2)\n",
    "print('\\n original:', arr2)\n",
    "print('\\n split in 2 equal parts: \\n', s)"
   ]
  },
  {
   "cell_type": "code",
   "execution_count": 56,
   "metadata": {},
   "outputs": [
    {
     "name": "stdout",
     "output_type": "stream",
     "text": [
      "original: \n",
      " [[ 0  1  2  3]\n",
      " [ 4  5  6  7]\n",
      " [ 8  9 10 11]\n",
      " [12 13 14 15]] \n",
      "\n",
      "vertical splitting: \n",
      " [array([[0, 1, 2, 3],\n",
      "       [4, 5, 6, 7]]), array([[ 8,  9, 10, 11],\n",
      "       [12, 13, 14, 15]])] \n",
      "\n",
      "horizontal splitting: \n",
      " [array([[ 0,  1],\n",
      "       [ 4,  5],\n",
      "       [ 8,  9],\n",
      "       [12, 13]]), array([[ 2,  3],\n",
      "       [ 6,  7],\n",
      "       [10, 11],\n",
      "       [14, 15]])]\n"
     ]
    }
   ],
   "source": [
    "#horizontal vs vertical array splitting\n",
    "arr3 = np.arange(16).reshape(4,4)\n",
    "vs = np.vsplit(arr3,2)\n",
    "hs = np.hsplit(arr3,2)\n",
    "print('original: \\n', arr3, '\\n')\n",
    "print('vertical splitting: \\n',vs, '\\n')\n",
    "print('horizontal splitting: \\n',hs)"
   ]
  },
  {
   "cell_type": "code",
   "execution_count": 58,
   "metadata": {},
   "outputs": [
    {
     "name": "stdout",
     "output_type": "stream",
     "text": [
      "original: \n",
      " [[1 2]\n",
      " [3 4]\n",
      " [5 6]] \n",
      "\n",
      "resized to shape(3,2): \n",
      " [[1 2]\n",
      " [3 4]\n",
      " [5 6]] \n",
      "\n",
      "resized to shape(3,3): \n",
      " [[1 2 3]\n",
      " [4 5 6]\n",
      " [1 2 3]]\n"
     ]
    }
   ],
   "source": [
    "#resizing arrays\n",
    "x = np.array([[1,2],[3,4],[5,6]])\n",
    "rs1 = np.resize(x,(3,2))\n",
    "rs2 = np.resize(x, (3,3))\n",
    "#take note of what happens to rs2\n",
    "print('original: \\n', x, '\\n')\n",
    "print('resized to shape(3,2): \\n', rs1, '\\n')\n",
    "print('resized to shape(3,3): \\n', rs2)"
   ]
  },
  {
   "cell_type": "code",
   "execution_count": 62,
   "metadata": {},
   "outputs": [
    {
     "name": "stdout",
     "output_type": "stream",
     "text": [
      "original: \n",
      " [[1 2]\n",
      " [3 4]\n",
      " [5 6]] \n",
      "\n",
      "simple append: \n",
      " [1 2 3 4 5 6 7 8] \n",
      "\n",
      "append along axis 0: \n",
      " [[1 2]\n",
      " [3 4]\n",
      " [5 6]\n",
      " [7 8]] \n",
      "\n",
      "append along axis 1: \n",
      " [[1 2 1 1]\n",
      " [3 4 2 2]\n",
      " [5 6 3 3]] \n",
      "\n"
     ]
    }
   ],
   "source": [
    "#Appending to arrays\n",
    "ap0 = np.append(x,[7,8])\n",
    "ap1 = np.append(x,[[7,8]], axis=0)\n",
    "ap2 = np.append(x,[[1,1],[2,2],[3,3]], axis =1)\n",
    "print('original: \\n', x, '\\n')\n",
    "print('simple append: \\n', ap0, '\\n')\n",
    "print('append along axis 0: \\n', ap1, '\\n')\n",
    "print('append along axis 1: \\n', ap2, '\\n')\n"
   ]
  },
  {
   "cell_type": "code",
   "execution_count": null,
   "metadata": {},
   "outputs": [],
   "source": [
    "#inserting \n"
   ]
  }
 ],
 "metadata": {
  "kernelspec": {
   "display_name": "Python 3",
   "language": "python",
   "name": "python3"
  },
  "language_info": {
   "codemirror_mode": {
    "name": "ipython",
    "version": 3
   },
   "file_extension": ".py",
   "mimetype": "text/x-python",
   "name": "python",
   "nbconvert_exporter": "python",
   "pygments_lexer": "ipython3",
   "version": "3.7.1"
  }
 },
 "nbformat": 4,
 "nbformat_minor": 2
}
